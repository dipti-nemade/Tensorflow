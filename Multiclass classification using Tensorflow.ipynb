{
 "cells": [
  {
   "cell_type": "markdown",
   "metadata": {},
   "source": [
    "# Multiclass Classification using Tensorflow"
   ]
  },
  {
   "cell_type": "markdown",
   "metadata": {},
   "source": [
    "The most popular use case for TensorFlow's multiclass classification is the Minst dataset. While I have learned on it as a first step, I was excited to apply Tensorflow to classify another dataset. I obtained this glass classification dataset from UCI website: https://archive.ics.uci.edu/ml/datasets/ It only has 200 samples and I didnt get a good accuracy but this was a good dataset for dimensionality reduction and just another practice round for Tensorflow."
   ]
  },
  {
   "cell_type": "code",
   "execution_count": 233,
   "metadata": {},
   "outputs": [],
   "source": [
    "import tensorflow as tf\n",
    "import pandas as pd\n",
    "import numpy as np\n",
    "from sklearn.model_selection import train_test_split"
   ]
  },
  {
   "cell_type": "code",
   "execution_count": 234,
   "metadata": {},
   "outputs": [
    {
     "name": "stderr",
     "output_type": "stream",
     "text": [
      "/anaconda3/lib/python3.6/site-packages/ipykernel_launcher.py:9: FutureWarning: reshape is deprecated and will raise in a subsequent release. Please use .values.reshape(...) instead\n",
      "  if __name__ == '__main__':\n"
     ]
    }
   ],
   "source": [
    "#Input data to Test/Train datasets\n",
    "X = pd.read_csv('glass.csv')\n",
    "X.columns = ['Id', 'RI','Na','Mg','Al','Si','K','Ca','Ba','Fe','label']\n",
    "\n",
    "X_train = X.drop(['label','Id'], axis='columns', inplace=False)\n",
    "y_train = X['label']\n",
    "\n",
    "from sklearn.preprocessing import OneHotEncoder\n",
    "onehot_encoder = OneHotEncoder(sparse=False)\n",
    "onehot_encoded = onehot_encoder.fit_transform(y_train.reshape(-1, 1))\n",
    "y_train=onehot_encoded\n",
    "\n",
    "inputX, testX, inputY, testY = train_test_split(X_train, y_train, test_size=0.08, random_state=4)"
   ]
  },
  {
   "cell_type": "code",
   "execution_count": 235,
   "metadata": {},
   "outputs": [],
   "source": [
    "#Reshape data for training\n",
    "inputX=np.array(inputX).reshape((-1,9))\n",
    "inputX\n",
    "inputY=np.array(inputY).reshape((-1,6))"
   ]
  },
  {
   "cell_type": "code",
   "execution_count": 239,
   "metadata": {},
   "outputs": [],
   "source": [
    "#Softmax Classification\n",
    "\n",
    "#Define Parameters\n",
    "n_inputs=9\n",
    "n_hidden=2\n",
    "n_outputs=6\n",
    "learning_rate=0.01\n",
    "\n",
    "training_epochs=45\n",
    "codings=hidden\n",
    "batch_size=7\n",
    "n_samples=len(inputX)\n",
    "display_step = 1\n",
    "\n",
    "#Define Network\n",
    "x=tf.placeholder(tf.float32,shape=[None,n_inputs])\n",
    "y=tf.placeholder(tf.int32,shape=(None,n_outputs))\n",
    "hidden=tf.layers.dense(x,n_hidden)\n",
    "logits=tf.layers.dense(hidden,n_outputs)\n",
    "y_ = tf.placeholder(tf.float32, [None, 6])"
   ]
  },
  {
   "cell_type": "code",
   "execution_count": 241,
   "metadata": {},
   "outputs": [],
   "source": [
    "#Loss\n",
    "xentropy=tf.nn.softmax_cross_entropy_with_logits(labels=y,logits=logits)\n",
    "loss=tf.reduce_mean(xentropy,name=\"loss\")\n",
    "\n",
    "#Optimizer\n",
    "optimizer=tf.train.GradientDescentOptimizer(learning_rate)\n",
    "training_op=optimizer.minimize(loss)\n",
    "\n",
    "#Accuracy\n",
    "correct_prediction = tf.equal(tf.argmax(y,1), tf.argmax(logits,1))\n",
    "accuracy = tf.reduce_mean(tf.cast(correct_prediction, tf.float32))"
   ]
  },
  {
   "cell_type": "code",
   "execution_count": 242,
   "metadata": {},
   "outputs": [
    {
     "name": "stdout",
     "output_type": "stream",
     "text": [
      "0 trainaccuracy:  0.5714286 valaccuracy:  0.44444445\n",
      "1 trainaccuracy:  0.2857143 valaccuracy:  0.2777778\n",
      "2 trainaccuracy:  0.2857143 valaccuracy:  0.2777778\n",
      "3 trainaccuracy:  0.5714286 valaccuracy:  0.44444445\n",
      "4 trainaccuracy:  0.5714286 valaccuracy:  0.44444445\n",
      "5 trainaccuracy:  0.5714286 valaccuracy:  0.44444445\n",
      "6 trainaccuracy:  0.5714286 valaccuracy:  0.44444445\n",
      "7 trainaccuracy:  0.5714286 valaccuracy:  0.44444445\n",
      "8 trainaccuracy:  0.5714286 valaccuracy:  0.44444445\n",
      "9 trainaccuracy:  0.5714286 valaccuracy:  0.44444445\n",
      "10 trainaccuracy:  0.5714286 valaccuracy:  0.44444445\n",
      "11 trainaccuracy:  0.5714286 valaccuracy:  0.44444445\n",
      "12 trainaccuracy:  0.5714286 valaccuracy:  0.44444445\n",
      "13 trainaccuracy:  0.5714286 valaccuracy:  0.44444445\n",
      "14 trainaccuracy:  0.5714286 valaccuracy:  0.44444445\n",
      "15 trainaccuracy:  0.42857143 valaccuracy:  0.3888889\n",
      "16 trainaccuracy:  0.2857143 valaccuracy:  0.3888889\n",
      "17 trainaccuracy:  0.2857143 valaccuracy:  0.3888889\n",
      "18 trainaccuracy:  0.42857143 valaccuracy:  0.3888889\n",
      "19 trainaccuracy:  0.42857143 valaccuracy:  0.3888889\n",
      "20 trainaccuracy:  0.42857143 valaccuracy:  0.3888889\n",
      "21 trainaccuracy:  0.42857143 valaccuracy:  0.3888889\n",
      "22 trainaccuracy:  0.42857143 valaccuracy:  0.3888889\n",
      "23 trainaccuracy:  0.42857143 valaccuracy:  0.3888889\n",
      "24 trainaccuracy:  0.42857143 valaccuracy:  0.3888889\n",
      "25 trainaccuracy:  0.5714286 valaccuracy:  0.3888889\n",
      "26 trainaccuracy:  0.5714286 valaccuracy:  0.3888889\n",
      "27 trainaccuracy:  0.5714286 valaccuracy:  0.3888889\n",
      "28 trainaccuracy:  0.5714286 valaccuracy:  0.3888889\n",
      "29 trainaccuracy:  0.5714286 valaccuracy:  0.44444445\n",
      "30 trainaccuracy:  0.5714286 valaccuracy:  0.44444445\n",
      "31 trainaccuracy:  0.5714286 valaccuracy:  0.44444445\n",
      "32 trainaccuracy:  0.5714286 valaccuracy:  0.44444445\n",
      "33 trainaccuracy:  0.5714286 valaccuracy:  0.44444445\n",
      "34 trainaccuracy:  0.5714286 valaccuracy:  0.44444445\n",
      "35 trainaccuracy:  0.5714286 valaccuracy:  0.44444445\n",
      "36 trainaccuracy:  0.5714286 valaccuracy:  0.44444445\n",
      "37 trainaccuracy:  0.5714286 valaccuracy:  0.44444445\n",
      "38 trainaccuracy:  0.5714286 valaccuracy:  0.44444445\n",
      "39 trainaccuracy:  0.5714286 valaccuracy:  0.44444445\n",
      "40 trainaccuracy:  0.5714286 valaccuracy:  0.44444445\n",
      "41 trainaccuracy:  0.5714286 valaccuracy:  0.44444445\n",
      "42 trainaccuracy:  0.5714286 valaccuracy:  0.44444445\n",
      "43 trainaccuracy:  0.5714286 valaccuracy:  0.44444445\n",
      "44 trainaccuracy:  0.5714286 valaccuracy:  0.44444445\n"
     ]
    }
   ],
   "source": [
    "#Training the network\n",
    "with tf.Session() as sess:\n",
    "    sess.run(tf.global_variables_initializer())\n",
    "\n",
    "    acc_t=[]\n",
    "    acc_v=[]\n",
    "    epoch_l=[]\n",
    "    for epoch in range(training_epochs): \n",
    "        for batch in range(int(n_samples/batch_size)):\n",
    "            \n",
    "            batch_x = inputX[batch*batch_size : (1+batch)*batch_size]\n",
    "            batch_y = inputY[batch*batch_size : (1+batch)*batch_size]\n",
    "\n",
    "            sess.run([training_op], feed_dict={x: batch_x, y:batch_y})\n",
    "            \n",
    "            acc_train=accuracy.eval(feed_dict={x: batch_x, y:batch_y})\n",
    "            acc_val=accuracy.eval(feed_dict={x: testX, y:testY})\n",
    "            \n",
    "        epoch_l.append(epoch)\n",
    "        acc_t.append(acc_train)\n",
    "        acc_v.append(acc_val)\n",
    "        print(epoch,\"trainaccuracy: \",acc_train,\"valaccuracy: \",acc_val)\n",
    "            "
   ]
  },
  {
   "cell_type": "code",
   "execution_count": 245,
   "metadata": {},
   "outputs": [
    {
     "data": {
      "image/png": "[encoded data removed]",
      "text/plain": [
       "<matplotlib.figure.Figure at 0x1228e8128>"
      ]
     },
     "metadata": {},
     "output_type": "display_data"
    }
   ],
   "source": [
    "# Plot the accuracy summary \n",
    "import matplotlib.pyplot as plt\n",
    "f, (ax1) = plt.subplots(1, 1, sharex=True, figsize=(10,4))\n",
    "ax1.plot(epoch_l,acc_t, color='b') # blue\n",
    "ax1.plot(epoch_l,acc_v, color='g') # green\n",
    "ax1.set_title('Accuracy')\n",
    "plt.show()\n"
   ]
  },
  {
   "cell_type": "code",
   "execution_count": null,
   "metadata": {},
   "outputs": [],
   "source": []
  }
 ],
 "metadata": {
  "kernelspec": {
   "display_name": "Python 3",
   "language": "python",
   "name": "python3"
  },
  "language_info": {
   "codemirror_mode": {
    "name": "ipython",
    "version": 3
   },
   "file_extension": ".py",
   "mimetype": "text/x-python",
   "name": "python",
   "nbconvert_exporter": "python",
   "pygments_lexer": "ipython3",
   "version": "3.6.4"
  }
 },
 "nbformat": 4,
 "nbformat_minor": 2
}
